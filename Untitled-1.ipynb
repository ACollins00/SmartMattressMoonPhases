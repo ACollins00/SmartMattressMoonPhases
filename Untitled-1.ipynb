{
 "cells": [
  {
   "cell_type": "code",
   "execution_count": 9,
   "metadata": {},
   "outputs": [],
   "source": [
    "import pandas as pd\n",
    "import matplotlib.pyplot as plt\n",
    "import matplotlib as mpl\n",
    "import numpy as nmpy\n",
    "import seaborn as sn"
   ]
  },
  {
   "cell_type": "code",
   "execution_count": 12,
   "metadata": {},
   "outputs": [
    {
     "name": "stdout",
     "output_type": "stream",
     "text": [
      "Contents in csv file:        Night  TtoFallAsleep  Restful  Restless\n",
      "0    12/1/22          46.00     4.26     20.00\n",
      "1   12/02/22           7.00     6.52      1.01\n",
      "2   12/03/22          25.00     7.08     39.00\n",
      "3   12/04/22           9.00     4.44     28.00\n",
      "4   12/05/22           7.00     8.30     37.00\n",
      "5   12/06/22          14.00     7.57     54.00\n",
      "6   12/07/22          51.00     5.51     43.00\n",
      "7   12/08/22           1.10     5.48     59.00\n",
      "8   12/09/22          54.00     4.31     27.00\n",
      "9   12/10/22           7.00     8.15     55.00\n",
      "10  12/11/22          21.00     5.03     31.00\n",
      "11  12/12/22          23.00     6.05      1.03\n",
      "12  12/13/22           3.00     7.40     46.00\n",
      "13  12/14/22          52.00     4.37     39.00\n",
      "14  12/15/22           1.01     6.13     53.00\n",
      "15  12/16/22           5.00     6.23      1.05\n",
      "16  12/17/22          15.00     7.05     60.00\n",
      "17  12/18/22          53.00     1.08      9.00\n",
      "18  12/19/22          15.00     6.37     51.00\n",
      "19  12/20/22          25.00     1.08     18.00\n",
      "20  12/21/22           1.32     3.54      1.02\n",
      "21  12/22/22           3.00     7.41     53.00\n",
      "22  12/23/22          67.00     6.56      1.14\n",
      "23  12/24/22          47.00     7.34     51.00\n",
      "24  12/25/22           3.00     3.54      1.02\n",
      "25  12/26/22          47.00     6.22      1.48\n",
      "26  12/27/22          27.00     7.11      1.32\n",
      "27  12/28/22           1.00     7.32      1.32\n",
      "28  12/29/22           2.00     7.11      1.02\n",
      "29  12/30/22          13.00     6.56      1.13\n",
      "30  12/31/22           1.00     4.49      1.20\n"
     ]
    }
   ],
   "source": [
    "plt.rcParams[\"figure.figsize\"] = [7.50, 4.5]\n",
    "plt.rcParams[\"figure.autolayout\"] = False\n",
    "\n",
    "columns = [\"Night\", \"TtoFallAsleep\", \"Restful\", \"Restless\"]\n",
    "\n",
    "df = pd.read_csv(\"SmartMattressStats - Sheet1.csv\")\n",
    "\n",
    "print(\"Contents in csv file:\", df)"
   ]
  },
  {
   "cell_type": "code",
   "execution_count": null,
   "metadata": {},
   "outputs": [],
   "source": []
  }
 ],
 "metadata": {
  "kernelspec": {
   "display_name": "Python 3",
   "language": "python",
   "name": "python3"
  },
  "language_info": {
   "codemirror_mode": {
    "name": "ipython",
    "version": 3
   },
   "file_extension": ".py",
   "mimetype": "text/x-python",
   "name": "python",
   "nbconvert_exporter": "python",
   "pygments_lexer": "ipython3",
   "version": "3.10.8"
  },
  "orig_nbformat": 4,
  "vscode": {
   "interpreter": {
    "hash": "d0db3772be48f235906384105bda26646078d54aafc912577ec09fe4fb933e95"
   }
  }
 },
 "nbformat": 4,
 "nbformat_minor": 2
}
